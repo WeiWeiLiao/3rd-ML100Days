{
 "cells": [
  {
   "cell_type": "markdown",
   "metadata": {},
   "source": [
    "## [作業重點]\n",
    "使用 Sklearn 中的 Lasso, Ridge 模型，來訓練各種資料集，務必了解送進去模型訓練的**資料型態**為何，也請了解模型中各項參數的意義。\n",
    "\n",
    "機器學習的模型非常多種，但要訓練的資料多半有固定的格式，確保你了解訓練資料的格式為何，這樣在應用新模型時，就能夠最快的上手開始訓練！"
   ]
  },
  {
   "cell_type": "markdown",
   "metadata": {},
   "source": [
    "## 練習時間\n",
    "試著使用 sklearn datasets 的其他資料集 (boston, ...)，來訓練自己的線性迴歸模型，並加上適當的正則化來觀察訓練情形。"
   ]
  },
  {
   "cell_type": "code",
   "execution_count": 1,
   "metadata": {},
   "outputs": [],
   "source": [
    "import numpy as np\n",
    "import matplotlib.pyplot as plt\n",
    "from sklearn import datasets, linear_model\n",
    "from sklearn.model_selection import train_test_split\n",
    "from sklearn.metrics import mean_squared_error, r2_score"
   ]
  },
  {
   "cell_type": "code",
   "execution_count": 3,
   "metadata": {},
   "outputs": [
    {
     "name": "stdout",
     "output_type": "stream",
     "text": [
      "[-1.26414614e-01  4.21386723e-02 -1.13655846e-02  2.71594650e+00\n",
      " -1.60249898e+01  3.97246135e+00 -4.14895041e-03 -1.34647659e+00\n",
      "  2.86397162e-01 -1.17919296e-02 -8.90335811e-01  5.99424920e-03\n",
      " -5.24407381e-01]\n",
      "Mean squared error: 33.92\n"
     ]
    }
   ],
   "source": [
    "Boston = datasets.load_boston()\n",
    "x_train, x_test, y_train, y_test = train_test_split(Boston.data, Boston.target, test_size=0.2, random_state=40)\n",
    "regr = linear_model.LinearRegression()\n",
    "regr.fit(x_train, y_train)\n",
    "y_pred = regr.predict(x_test)\n",
    "print(regr.coef_)\n",
    "print(\"Mean squared error: %.2f\" % mean_squared_error(y_test, y_pred))"
   ]
  },
  {
   "cell_type": "code",
   "execution_count": 4,
   "metadata": {},
   "outputs": [
    {
     "name": "stdout",
     "output_type": "stream",
     "text": [
      "[-0.06494981  0.04581458 -0.          0.         -0.          1.18140024\n",
      "  0.01109101 -0.73695809  0.23350042 -0.01551065 -0.69270805  0.00763157\n",
      " -0.6927848 ]\n",
      "Mean squared error: 28.95\n",
      "[-0.          0.01832072 -0.          0.          0.          0.\n",
      "  0.         -0.          0.         -0.01151799 -0.          0.00615268\n",
      " -0.52036911]\n",
      "Mean squared error: 47.63\n",
      "[-0.          0.         -0.          0.         -0.          0.\n",
      " -0.          0.         -0.         -0.02267029 -0.          0.00197791\n",
      " -0.        ]\n",
      "Mean squared error: 81.65\n",
      "[-1.12499445e-01  4.79562332e-02 -2.40438147e-02  2.96199458e+00\n",
      " -9.33966118e+00  3.93079015e+00 -1.73821202e-02 -1.43347691e+00\n",
      "  2.75239392e-01 -1.38920708e-02 -8.31116943e-01  9.15637729e-03\n",
      " -4.66460539e-01]\n",
      "Mean squared error: 25.74\n",
      "[-0.10983294  0.049805   -0.05382756  2.06396836 -1.86500987  3.73850198\n",
      " -0.02135944 -1.32033911  0.2667507  -0.01481666 -0.77176853  0.00945631\n",
      " -0.49564775]\n",
      "Mean squared error: 26.24\n",
      "[-0.10763397  0.05372159 -0.05747993  0.60034259 -0.19610981  2.21912389\n",
      " -0.00637912 -1.19515097  0.29907624 -0.01644862 -0.80880248  0.00878369\n",
      " -0.61287022]\n",
      "Mean squared error: 26.70\n"
     ]
    }
   ],
   "source": [
    "## Lasso alpha = 1\n",
    "Boston = datasets.load_boston()\n",
    "X_train, x_test, y_train, y_test = train_test_split(Boston.data, Boston.target, test_size=0.2, random_state=4)\n",
    "lasso = linear_model.Lasso(alpha = 1)\n",
    "lasso.fit(X_train, y_train)\n",
    "y_pred = lasso.predict(x_test)\n",
    "print(lasso.coef_)\n",
    "print(\"Mean squared error: %.2f\" % mean_squared_error(y_test, y_pred))\n",
    "\n",
    "## Lasso alpha = 10\n",
    "Boston = datasets.load_boston()\n",
    "X_train, x_test, y_train, y_test = train_test_split(Boston.data, Boston.target, test_size=0.2, random_state=4)\n",
    "lasso = linear_model.Lasso(alpha = 10)\n",
    "lasso.fit(X_train, y_train)\n",
    "y_pred = lasso.predict(x_test)\n",
    "print(lasso.coef_)\n",
    "print(\"Mean squared error: %.2f\" % mean_squared_error(y_test, y_pred))\n",
    "\n",
    "## Lasso alpha = 100\n",
    "Boston = datasets.load_boston()\n",
    "X_train, x_test, y_train, y_test = train_test_split(Boston.data, Boston.target, test_size=0.2, random_state=4)\n",
    "lasso = linear_model.Lasso(alpha = 100)\n",
    "lasso.fit(X_train, y_train)\n",
    "y_pred = lasso.predict(x_test)\n",
    "print(lasso.coef_)\n",
    "print(\"Mean squared error: %.2f\" % mean_squared_error(y_test, y_pred))\n",
    "\n",
    "## Ridge alpha = 1\n",
    "Boston = datasets.load_boston()\n",
    "X_train, x_test, y_train, y_test = train_test_split(Boston.data, Boston.target, test_size=0.2, random_state=4)\n",
    "ridge = linear_model.Ridge(alpha = 1)\n",
    "ridge.fit(X_train, y_train)\n",
    "y_pred = ridge.predict(x_test)\n",
    "print(ridge.coef_)\n",
    "print(\"Mean squared error: %.2f\" % mean_squared_error(y_test, y_pred))\n",
    "\n",
    "## Ridge alpha = 10\n",
    "Boston = datasets.load_boston()\n",
    "X_train, x_test, y_train, y_test = train_test_split(Boston.data, Boston.target, test_size=0.2, random_state=4)\n",
    "ridge = linear_model.Ridge(alpha = 10)\n",
    "ridge.fit(X_train, y_train)\n",
    "y_pred = ridge.predict(x_test)\n",
    "print(ridge.coef_)\n",
    "print(\"Mean squared error: %.2f\" % mean_squared_error(y_test, y_pred))\n",
    "\n",
    "## Ridge alpha = 100\n",
    "Boston = datasets.load_boston()\n",
    "X_train, x_test, y_train, y_test = train_test_split(Boston.data, Boston.target, test_size=0.2, random_state=4)\n",
    "ridge = linear_model.Ridge(alpha = 100)\n",
    "ridge.fit(X_train, y_train)\n",
    "y_pred = ridge.predict(x_test)\n",
    "print(ridge.coef_)\n",
    "print(\"Mean squared error: %.2f\" % mean_squared_error(y_test, y_pred))"
   ]
  },
  {
   "cell_type": "code",
   "execution_count": null,
   "metadata": {},
   "outputs": [],
   "source": []
  }
 ],
 "metadata": {
  "kernelspec": {
   "display_name": "Python 3",
   "language": "python",
   "name": "python3"
  },
  "language_info": {
   "codemirror_mode": {
    "name": "ipython",
    "version": 3
   },
   "file_extension": ".py",
   "mimetype": "text/x-python",
   "name": "python",
   "nbconvert_exporter": "python",
   "pygments_lexer": "ipython3",
   "version": "3.7.3"
  }
 },
 "nbformat": 4,
 "nbformat_minor": 2
}
