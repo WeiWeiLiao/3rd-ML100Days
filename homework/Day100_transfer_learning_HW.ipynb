{
 "cells": [
  {
   "cell_type": "markdown",
   "metadata": {},
   "source": [
    "## 作業\n",
    "礙於不是所有同學都有 GPU ，這邊的範例使用的是簡化版本的 ResNet，確保所有同學都能夠順利訓練!\n",
    "\n",
    "\n",
    "最後一天的作業請閱讀這篇非常詳盡的[文章](https://blog.gtwang.org/programming/keras-resnet-50-pre-trained-model-build-dogs-cats-image-classification-system/)，基本上已經涵蓋了所有訓練　CNN 常用的技巧，請使用所有學過的訓練技巧，盡可能地提高 Cifar-10 的 test data 準確率，截圖你最佳的結果並上傳來完成最後一次的作業吧!\n",
    "\n",
    "另外這些技巧在 Kaggle 上也會被許多人使用，更有人會開發一些新的技巧，例如使把預訓練在 ImageNet 上的模型當成 feature extractor 後，再拿擷取出的特徵重新訓練新的模型，這些技巧再進階的課程我們會在提到，有興趣的同學也可以[參考](https://www.kaggle.com/insaff/img-feature-extraction-with-pretrained-resnet)"
   ]
  },
  {
   "cell_type": "code",
   "execution_count": 1,
   "metadata": {},
   "outputs": [
    {
     "name": "stderr",
     "output_type": "stream",
     "text": [
      "Using TensorFlow backend.\n"
     ]
    }
   ],
   "source": [
    "from keras.datasets import cifar10\n",
    "from keras.preprocessing.image import ImageDataGenerator\n",
    "%matplotlib inline"
   ]
  },
  {
   "cell_type": "code",
   "execution_count": 2,
   "metadata": {},
   "outputs": [
    {
     "name": "stdout",
     "output_type": "stream",
     "text": [
      "Downloading data from https://www.cs.toronto.edu/~kriz/cifar-10-python.tar.gz\n",
      "170500096/170498071 [==============================] - 62s 0us/step\n"
     ]
    }
   ],
   "source": [
    "# 讀取 Cifar-10 資料集\n",
    "(x_train, y_train), (x_test, y_test) = cifar10.load_data()"
   ]
  },
  {
   "cell_type": "code",
   "execution_count": 3,
   "metadata": {},
   "outputs": [],
   "source": [
    "from keras.utils import to_categorical\n",
    "x_train = x_train/255\n",
    "x_test = x_test/255\n",
    "\n",
    "y_train = to_categorical(y_train, 10)\n",
    "y_test = to_categorical(y_test, 10)"
   ]
  },
  {
   "cell_type": "code",
   "execution_count": 9,
   "metadata": {},
   "outputs": [],
   "source": [
    "from keras.models import Sequential\n",
    "from keras.layers import Conv2D, MaxPooling2D,  Dropout, Flatten, Dense, BatchNormalization\n",
    "from keras.utils import to_categorical\n",
    "import matplotlib.pyplot as plt\n",
    "from keras.layers import Dense\n",
    "from keras.layers import Dropout\n",
    "from tensorflow.python.keras.applications import ResNet50\n",
    "from tensorflow.python.keras.optimizers import Adam"
   ]
  },
  {
   "cell_type": "code",
   "execution_count": 10,
   "metadata": {},
   "outputs": [
    {
     "name": "stdout",
     "output_type": "stream",
     "text": [
      "Model: \"sequential_1\"\n",
      "_________________________________________________________________\n",
      "Layer (type)                 Output Shape              Param #   \n",
      "=================================================================\n",
      "conv2d_1 (Conv2D)            (None, 32, 32, 32)        896       \n",
      "_________________________________________________________________\n",
      "batch_normalization_1 (Batch (None, 32, 32, 32)        128       \n",
      "_________________________________________________________________\n",
      "dropout_1 (Dropout)          (None, 32, 32, 32)        0         \n",
      "_________________________________________________________________\n",
      "max_pooling2d_1 (MaxPooling2 (None, 16, 16, 32)        0         \n",
      "_________________________________________________________________\n",
      "conv2d_2 (Conv2D)            (None, 16, 16, 64)        18496     \n",
      "_________________________________________________________________\n",
      "batch_normalization_2 (Batch (None, 16, 16, 64)        256       \n",
      "_________________________________________________________________\n",
      "dropout_2 (Dropout)          (None, 16, 16, 64)        0         \n",
      "_________________________________________________________________\n",
      "max_pooling2d_2 (MaxPooling2 (None, 8, 8, 64)          0         \n",
      "_________________________________________________________________\n",
      "conv2d_3 (Conv2D)            (None, 8, 8, 128)         73856     \n",
      "_________________________________________________________________\n",
      "batch_normalization_3 (Batch (None, 8, 8, 128)         512       \n",
      "_________________________________________________________________\n",
      "dropout_3 (Dropout)          (None, 8, 8, 128)         0         \n",
      "_________________________________________________________________\n",
      "max_pooling2d_3 (MaxPooling2 (None, 4, 4, 128)         0         \n",
      "_________________________________________________________________\n",
      "flatten_1 (Flatten)          (None, 2048)              0         \n",
      "_________________________________________________________________\n",
      "dense_1 (Dense)              (None, 256)               524544    \n",
      "_________________________________________________________________\n",
      "dropout_4 (Dropout)          (None, 256)               0         \n",
      "_________________________________________________________________\n",
      "dense_2 (Dense)              (None, 10)                2570      \n",
      "=================================================================\n",
      "Total params: 621,258\n",
      "Trainable params: 620,810\n",
      "Non-trainable params: 448\n",
      "_________________________________________________________________\n"
     ]
    }
   ],
   "source": [
    "#param setting\n",
    "epochs=30\n",
    "batch_size = 300\n",
    "\n",
    "\n",
    "data_generator = ImageDataGenerator(\n",
    "    rotation_range=20,\n",
    "    width_shift_range=0.2,\n",
    "    height_shift_range=0.2,\n",
    "    horizontal_flip=True)\n",
    "\n",
    "model = Sequential()\n",
    "model.add(Conv2D(32, (3, 3),  input_shape=x_train.shape[1:], padding='same', activation='relu'))\n",
    "model.add(BatchNormalization())\n",
    "model.add(Dropout(0.25))\n",
    "model.add(MaxPooling2D((2, 2)))\n",
    "\n",
    "model.add(Conv2D(64, (3, 3), padding='same', activation='relu'))\n",
    "model.add(BatchNormalization())\n",
    "model.add(Dropout(0.25))\n",
    "model.add(MaxPooling2D(pool_size=(2, 2)))\n",
    "\n",
    "model.add(Conv2D(128, (3, 3), padding='same', activation='relu'))\n",
    "model.add(BatchNormalization())\n",
    "model.add(Dropout(0.25))\n",
    "model.add(MaxPooling2D(pool_size=(2, 2)))\n",
    "\n",
    "model.add(Flatten())\n",
    "model.add(Dense(256, activation='relu'))\n",
    "model.add(Dropout(0.25))\n",
    "model.add(Dense(10, activation='softmax'))\n",
    "model.summary()"
   ]
  },
  {
   "cell_type": "code",
   "execution_count": 11,
   "metadata": {},
   "outputs": [
    {
     "name": "stdout",
     "output_type": "stream",
     "text": [
      "Epoch 1/30\n",
      "166/166 [==============================] - 119s 715ms/step - loss: 1.8473 - accuracy: 0.3466 - val_loss: 6.6410 - val_accuracy: 0.1784\n",
      "Epoch 2/30\n",
      "166/166 [==============================] - 116s 701ms/step - loss: 1.5049 - accuracy: 0.4549 - val_loss: 7.1600 - val_accuracy: 0.1493\n",
      "Epoch 3/30\n",
      "166/166 [==============================] - 117s 702ms/step - loss: 1.3618 - accuracy: 0.5090 - val_loss: 3.4620 - val_accuracy: 0.3156\n",
      "Epoch 4/30\n",
      "166/166 [==============================] - 116s 701ms/step - loss: 1.2698 - accuracy: 0.5427 - val_loss: 2.5284 - val_accuracy: 0.3749\n",
      "Epoch 5/30\n",
      "166/166 [==============================] - 116s 698ms/step - loss: 1.2030 - accuracy: 0.5698 - val_loss: 1.3699 - val_accuracy: 0.5816\n",
      "Epoch 6/30\n",
      "166/166 [==============================] - 116s 697ms/step - loss: 1.1431 - accuracy: 0.5927 - val_loss: 1.9409 - val_accuracy: 0.4739\n",
      "Epoch 7/30\n",
      "166/166 [==============================] - 116s 697ms/step - loss: 1.1077 - accuracy: 0.6070 - val_loss: 1.3315 - val_accuracy: 0.5909\n",
      "Epoch 8/30\n",
      "166/166 [==============================] - 116s 698ms/step - loss: 1.0669 - accuracy: 0.6239 - val_loss: 1.1734 - val_accuracy: 0.6283\n",
      "Epoch 9/30\n",
      "166/166 [==============================] - 115s 693ms/step - loss: 1.0335 - accuracy: 0.6352 - val_loss: 1.3016 - val_accuracy: 0.6017\n",
      "Epoch 10/30\n",
      "166/166 [==============================] - 115s 693ms/step - loss: 1.0029 - accuracy: 0.6439 - val_loss: 1.7290 - val_accuracy: 0.5843\n",
      "Epoch 11/30\n",
      "166/166 [==============================] - 115s 694ms/step - loss: 0.9733 - accuracy: 0.6552 - val_loss: 0.9673 - val_accuracy: 0.6778\n",
      "Epoch 12/30\n",
      "166/166 [==============================] - 115s 695ms/step - loss: 0.9503 - accuracy: 0.6648 - val_loss: 0.8819 - val_accuracy: 0.7083\n",
      "Epoch 13/30\n",
      "166/166 [==============================] - 115s 693ms/step - loss: 0.9288 - accuracy: 0.6743 - val_loss: 1.5854 - val_accuracy: 0.5887\n",
      "Epoch 14/30\n",
      "166/166 [==============================] - 115s 692ms/step - loss: 0.9137 - accuracy: 0.6792 - val_loss: 0.9188 - val_accuracy: 0.7076\n",
      "Epoch 15/30\n",
      "166/166 [==============================] - 115s 692ms/step - loss: 0.8938 - accuracy: 0.6865 - val_loss: 0.9182 - val_accuracy: 0.7052\n",
      "Epoch 16/30\n",
      "166/166 [==============================] - 115s 694ms/step - loss: 0.8754 - accuracy: 0.6930 - val_loss: 0.8943 - val_accuracy: 0.7209\n",
      "Epoch 17/30\n",
      "166/166 [==============================] - 115s 693ms/step - loss: 0.8596 - accuracy: 0.7002 - val_loss: 0.8770 - val_accuracy: 0.7054\n",
      "Epoch 18/30\n",
      "166/166 [==============================] - 115s 693ms/step - loss: 0.8521 - accuracy: 0.7036 - val_loss: 0.8328 - val_accuracy: 0.7264\n",
      "Epoch 19/30\n",
      "166/166 [==============================] - 115s 693ms/step - loss: 0.8372 - accuracy: 0.7061 - val_loss: 0.8850 - val_accuracy: 0.7148\n",
      "Epoch 20/30\n",
      "166/166 [==============================] - 115s 693ms/step - loss: 0.8214 - accuracy: 0.7143 - val_loss: 0.9243 - val_accuracy: 0.7144\n",
      "Epoch 21/30\n",
      "166/166 [==============================] - 115s 693ms/step - loss: 0.8146 - accuracy: 0.7165 - val_loss: 1.2077 - val_accuracy: 0.6465\n",
      "Epoch 22/30\n",
      "166/166 [==============================] - 115s 694ms/step - loss: 0.7919 - accuracy: 0.7243 - val_loss: 0.9096 - val_accuracy: 0.7177\n",
      "Epoch 23/30\n",
      "166/166 [==============================] - 115s 692ms/step - loss: 0.7921 - accuracy: 0.7240 - val_loss: 1.0888 - val_accuracy: 0.6846\n",
      "Epoch 24/30\n",
      "166/166 [==============================] - 115s 692ms/step - loss: 0.7886 - accuracy: 0.7250 - val_loss: 0.8116 - val_accuracy: 0.7382\n",
      "Epoch 25/30\n",
      "166/166 [==============================] - 115s 695ms/step - loss: 0.7586 - accuracy: 0.7343 - val_loss: 1.1853 - val_accuracy: 0.6647\n",
      "Epoch 26/30\n",
      "166/166 [==============================] - 116s 698ms/step - loss: 0.7681 - accuracy: 0.7302 - val_loss: 0.8244 - val_accuracy: 0.7443\n",
      "Epoch 27/30\n",
      "166/166 [==============================] - 115s 693ms/step - loss: 0.7494 - accuracy: 0.7398 - val_loss: 0.8748 - val_accuracy: 0.7337\n",
      "Epoch 28/30\n",
      "166/166 [==============================] - 115s 693ms/step - loss: 0.7475 - accuracy: 0.7407 - val_loss: 1.0586 - val_accuracy: 0.6880\n",
      "Epoch 29/30\n",
      "166/166 [==============================] - 115s 694ms/step - loss: 0.7419 - accuracy: 0.7428 - val_loss: 0.9795 - val_accuracy: 0.7032\n",
      "Epoch 30/30\n",
      "166/166 [==============================] - 116s 696ms/step - loss: 0.7345 - accuracy: 0.7458 - val_loss: 0.7683 - val_accuracy: 0.7529\n",
      "10000/10000 [==============================] - 5s 504us/step\n",
      "[0.7682727793693542, 0.7529000043869019]\n"
     ]
    },
    {
     "ename": "KeyError",
     "evalue": "'acc'",
     "output_type": "error",
     "traceback": [
      "\u001b[1;31m---------------------------------------------------------------------------\u001b[0m",
      "\u001b[1;31mKeyError\u001b[0m                                  Traceback (most recent call last)",
      "\u001b[1;32m<ipython-input-11-f1f747cbec64>\u001b[0m in \u001b[0;36m<module>\u001b[1;34m\u001b[0m\n\u001b[0;32m      9\u001b[0m \u001b[0mprint\u001b[0m\u001b[1;33m(\u001b[0m\u001b[0mscore\u001b[0m\u001b[1;33m)\u001b[0m\u001b[1;33m\u001b[0m\u001b[1;33m\u001b[0m\u001b[0m\n\u001b[0;32m     10\u001b[0m \u001b[1;33m\u001b[0m\u001b[0m\n\u001b[1;32m---> 11\u001b[1;33m \u001b[0mplt\u001b[0m\u001b[1;33m.\u001b[0m\u001b[0mplot\u001b[0m\u001b[1;33m(\u001b[0m\u001b[0mhistory\u001b[0m\u001b[1;33m.\u001b[0m\u001b[0mhistory\u001b[0m\u001b[1;33m[\u001b[0m\u001b[1;34m'acc'\u001b[0m\u001b[1;33m]\u001b[0m\u001b[1;33m,\u001b[0m\u001b[0mlabel\u001b[0m\u001b[1;33m=\u001b[0m\u001b[1;34m'acc'\u001b[0m\u001b[1;33m)\u001b[0m\u001b[1;33m\u001b[0m\u001b[1;33m\u001b[0m\u001b[0m\n\u001b[0m\u001b[0;32m     12\u001b[0m \u001b[0mplt\u001b[0m\u001b[1;33m.\u001b[0m\u001b[0mplot\u001b[0m\u001b[1;33m(\u001b[0m\u001b[0mhistory\u001b[0m\u001b[1;33m.\u001b[0m\u001b[0mhistory\u001b[0m\u001b[1;33m[\u001b[0m\u001b[1;34m'val_acc'\u001b[0m\u001b[1;33m]\u001b[0m\u001b[1;33m,\u001b[0m \u001b[0mlabel\u001b[0m\u001b[1;33m=\u001b[0m\u001b[1;34m'val_acc'\u001b[0m\u001b[1;33m)\u001b[0m\u001b[1;33m\u001b[0m\u001b[1;33m\u001b[0m\u001b[0m\n\u001b[0;32m     13\u001b[0m \u001b[0mplt\u001b[0m\u001b[1;33m.\u001b[0m\u001b[0mlegend\u001b[0m\u001b[1;33m(\u001b[0m\u001b[0mloc\u001b[0m\u001b[1;33m=\u001b[0m\u001b[1;36m2\u001b[0m\u001b[1;33m)\u001b[0m\u001b[1;33m\u001b[0m\u001b[1;33m\u001b[0m\u001b[0m\n",
      "\u001b[1;31mKeyError\u001b[0m: 'acc'"
     ]
    }
   ],
   "source": [
    "model.compile(loss='categorical_crossentropy', optimizer='adam',metrics=['accuracy'])\n",
    "\n",
    "history = model.fit_generator(data_generator.flow(x_train, y_train, batch_size=batch_size),\n",
    "                    steps_per_epoch=int(len(x_train)/batch_size), \n",
    "                    epochs=epochs,\n",
    "                    validation_data=(x_test, y_test),\n",
    "                    verbose=1)\n",
    "score = model.evaluate(x_test, y_test)\n",
    "print(score)"
   ]
  },
  {
   "cell_type": "code",
   "execution_count": 12,
   "metadata": {},
   "outputs": [
    {
     "data": {
      "image/png": "[encoded data removed]",
      "text/plain": [
       "<Figure size 432x288 with 1 Axes>"
      ]
     },
     "metadata": {
      "needs_background": "light"
     },
     "output_type": "display_data"
    },
    {
     "data": {
      "text/plain": [
       "<matplotlib.legend.Legend at 0x1a7ce174278>"
      ]
     },
     "execution_count": 12,
     "metadata": {},
     "output_type": "execute_result"
    },
    {
     "data": {
      "image/png": "[encoded data removed]",
      "text/plain": [
       "<Figure size 432x288 with 1 Axes>"
      ]
     },
     "metadata": {
      "needs_background": "light"
     },
     "output_type": "display_data"
    }
   ],
   "source": [
    "plt.plot(history.history['accuracy'],label='acc')\n",
    "plt.plot(history.history['val_accuracy'], label='val_acc')\n",
    "plt.legend(loc=2)\n",
    "plt.show()\n",
    "plt.plot(history.history['loss'],label='loss')\n",
    "plt.plot(history.history['val_loss'], label='val_loss')\n",
    "plt.legend(loc=2)"
   ]
  },
  {
   "cell_type": "code",
   "execution_count": null,
   "metadata": {},
   "outputs": [],
   "source": []
  }
 ],
 "metadata": {
  "kernelspec": {
   "display_name": "Python 3",
   "language": "python",
   "name": "python3"
  },
  "language_info": {
   "codemirror_mode": {
    "name": "ipython",
    "version": 3
   },
   "file_extension": ".py",
   "mimetype": "text/x-python",
   "name": "python",
   "nbconvert_exporter": "python",
   "pygments_lexer": "ipython3",
   "version": "3.7.3"
  }
 },
 "nbformat": 4,
 "nbformat_minor": 2
}
